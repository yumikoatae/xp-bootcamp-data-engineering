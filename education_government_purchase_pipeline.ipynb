{
  "nbformat": 4,
  "nbformat_minor": 0,
  "metadata": {
    "colab": {
      "provenance": [],
      "authorship_tag": "ABX9TyPbe0eCHC/pQB4/OsEVrz4E"
    },
    "kernelspec": {
      "name": "python3",
      "display_name": "Python 3"
    },
    "language_info": {
      "name": "python"
    }
  },
  "cells": [
    {
      "cell_type": "code",
      "execution_count": 1,
      "metadata": {
        "id": "BneneRlvpwJ1"
      },
      "outputs": [],
      "source": [
        "# Import necessary libraries\n",
        "import requests\n",
        "import pandas as pd\n",
        "from pyspark.sql import SparkSession\n",
        "from pyspark.sql import functions as F\n",
        "import io"
      ]
    },
    {
      "cell_type": "markdown",
      "source": [
        "# Extract Phase"
      ],
      "metadata": {
        "id": "icfbjwn6qXDd"
      }
    },
    {
      "cell_type": "code",
      "source": [
        "# Step 1: Fetch data from the URL\n",
        "url = 'https://compras.dados.gov.br/servicos/v1/servicos.csv?descricao=educação'\n",
        "data = requests.get(url).content"
      ],
      "metadata": {
        "id": "E6lNtPIDqZCX"
      },
      "execution_count": 2,
      "outputs": []
    },
    {
      "cell_type": "code",
      "source": [
        "# Step 2: Parse the CSV data into a pandas DataFrame\n",
        "parse_data = io.StringIO(data.decode('utf-8'))\n",
        "df = pd.read_csv(parse_data)"
      ],
      "metadata": {
        "id": "1XmYHX-xqf_R"
      },
      "execution_count": 3,
      "outputs": []
    },
    {
      "cell_type": "markdown",
      "source": [
        "# Transform Phase"
      ],
      "metadata": {
        "id": "UZQHlo19qose"
      }
    },
    {
      "cell_type": "code",
      "source": [
        "# Step 3: Create a Spark session\n",
        "spark = SparkSession.builder.appName('pipeline1').getOrCreate()"
      ],
      "metadata": {
        "id": "O7oiY5VequdP"
      },
      "execution_count": 4,
      "outputs": []
    },
    {
      "cell_type": "code",
      "source": [
        "# Step 4: Convert the pandas DataFrame to a Spark DataFrame\n",
        "spark_df = spark.createDataFrame(df)"
      ],
      "metadata": {
        "id": "duMNHLdJqyXj"
      },
      "execution_count": 5,
      "outputs": []
    },
    {
      "cell_type": "code",
      "source": [
        "# Step 5: Print schema and show data\n",
        "spark_df.printSchema()\n",
        "spark_df.show()"
      ],
      "metadata": {
        "colab": {
          "base_uri": "https://localhost:8080/"
        },
        "id": "6RfjnvCWrAj_",
        "outputId": "b1532f60-97ec-4f7f-ca02-ccc2ee78fe9d"
      },
      "execution_count": 6,
      "outputs": [
        {
          "output_type": "stream",
          "name": "stdout",
          "text": [
            "root\n",
            " |-- Código: long (nullable = true)\n",
            " |-- Descrição: string (nullable = true)\n",
            " |-- Unidade medida: string (nullable = true)\n",
            " |-- CPC: long (nullable = true)\n",
            " |-- Seção: string (nullable = true)\n",
            " |-- Divisão: string (nullable = true)\n",
            " |-- Grupo: string (nullable = true)\n",
            " |-- Classe: string (nullable = true)\n",
            " |-- Subclasse: double (nullable = true)\n",
            "\n",
            "+------+--------------------+--------------+----+--------------------+--------------------+--------------------+--------------------+---------+\n",
            "|Código|           Descrição|Unidade medida| CPC|               Seção|             Divisão|               Grupo|              Classe|Subclasse|\n",
            "+------+--------------------+--------------+----+--------------------+--------------------+--------------------+--------------------+---------+\n",
            "| 14311|Orientação / Educ...| UNHOMEM/H MÊS|9659|9: SERVIÇOS DA CO...|96: SERVIÇOS RECR...|965: SERVIÇOS REL...|9659: OUTROS ESPO...|      NaN|\n",
            "| 15946|Serviço Penitenci...|            UN| 979|9: SERVIÇOS DA CO...|97: OUTROS SERVIÇ...|979: OUTROS SERVI...|                 NaN|      NaN|\n",
            "| 18481|Consultoria e Ass...|            UN|8319|8: SERVIÇOS DE AR...|83: OUTROS SERVIÇ...|831: SERVIÇOS DE ...|8319: OUTROS SERV...|      NaN|\n",
            "| 19321|Curso / Treinamen...|            UN| 929|9: SERVIÇOS DA CO...|92: SERVIÇOS DA I...|929: OUTROS SERVI...|                 NaN|      NaN|\n",
            "+------+--------------------+--------------+----+--------------------+--------------------+--------------------+--------------------+---------+\n",
            "\n"
          ]
        }
      ]
    },
    {
      "cell_type": "code",
      "source": [
        "# Step 6: Clean up column names by replacing spaces with underscores and converting to lowercase\n",
        "cleaned_col_names = [col_name.replace(\" \", \"_\").lower() for col_name in spark_df.columns]\n",
        "spark_df = spark_df.toDF(*cleaned_col_names)  # Rename all columns at once"
      ],
      "metadata": {
        "id": "3G3tiozQrIkd"
      },
      "execution_count": 7,
      "outputs": []
    },
    {
      "cell_type": "code",
      "source": [
        "# Step 7: Print schema again to see the cleaned names\n",
        "spark_df.printSchema()"
      ],
      "metadata": {
        "colab": {
          "base_uri": "https://localhost:8080/"
        },
        "id": "rU5-ZdhJrKDx",
        "outputId": "dece563d-24a0-414a-826c-0d2e2246e8d9"
      },
      "execution_count": 8,
      "outputs": [
        {
          "output_type": "stream",
          "name": "stdout",
          "text": [
            "root\n",
            " |-- código: long (nullable = true)\n",
            " |-- descrição: string (nullable = true)\n",
            " |-- unidade_medida: string (nullable = true)\n",
            " |-- cpc: long (nullable = true)\n",
            " |-- seção: string (nullable = true)\n",
            " |-- divisão: string (nullable = true)\n",
            " |-- grupo: string (nullable = true)\n",
            " |-- classe: string (nullable = true)\n",
            " |-- subclasse: double (nullable = true)\n",
            "\n"
          ]
        }
      ]
    },
    {
      "cell_type": "code",
      "source": [
        "# Step 8: Rename specific columns if needed\n",
        "spark_df = (spark_df.withColumnRenamed(\"código\", 'codigo')\n",
        "                    .withColumnRenamed(\"descrição\", 'descricao')\n",
        "                    .withColumnRenamed(\"seção\", 'secao')\n",
        "                    .withColumnRenamed(\"divisão\", 'divisao')\n",
        "                    .withColumnRenamed(\"unidade_medida\", 'unidade_medida'))"
      ],
      "metadata": {
        "id": "jJn5BC3orNgZ"
      },
      "execution_count": 9,
      "outputs": []
    },
    {
      "cell_type": "code",
      "source": [
        "# Step 9: Print the final list of columns to confirm the changes\n",
        "print(spark_df.columns)"
      ],
      "metadata": {
        "colab": {
          "base_uri": "https://localhost:8080/"
        },
        "id": "nJQxOi7arRqt",
        "outputId": "ad776308-1d0b-4b01-bb36-0a3eeb657efa"
      },
      "execution_count": 10,
      "outputs": [
        {
          "output_type": "stream",
          "name": "stdout",
          "text": [
            "['codigo', 'descricao', 'unidade_medida', 'cpc', 'secao', 'divisao', 'grupo', 'classe', 'subclasse']\n"
          ]
        }
      ]
    },
    {
      "cell_type": "code",
      "source": [
        "# Step 10: Show the final DataFrame\n",
        "spark_df.show()"
      ],
      "metadata": {
        "colab": {
          "base_uri": "https://localhost:8080/"
        },
        "id": "LK_0phkBrU6M",
        "outputId": "220f9cc5-d14d-4d20-f9ee-b6fe025bf0bb"
      },
      "execution_count": 11,
      "outputs": [
        {
          "output_type": "stream",
          "name": "stdout",
          "text": [
            "+------+--------------------+--------------+----+--------------------+--------------------+--------------------+--------------------+---------+\n",
            "|codigo|           descricao|unidade_medida| cpc|               secao|             divisao|               grupo|              classe|subclasse|\n",
            "+------+--------------------+--------------+----+--------------------+--------------------+--------------------+--------------------+---------+\n",
            "| 14311|Orientação / Educ...| UNHOMEM/H MÊS|9659|9: SERVIÇOS DA CO...|96: SERVIÇOS RECR...|965: SERVIÇOS REL...|9659: OUTROS ESPO...|      NaN|\n",
            "| 15946|Serviço Penitenci...|            UN| 979|9: SERVIÇOS DA CO...|97: OUTROS SERVIÇ...|979: OUTROS SERVI...|                 NaN|      NaN|\n",
            "| 18481|Consultoria e Ass...|            UN|8319|8: SERVIÇOS DE AR...|83: OUTROS SERVIÇ...|831: SERVIÇOS DE ...|8319: OUTROS SERV...|      NaN|\n",
            "| 19321|Curso / Treinamen...|            UN| 929|9: SERVIÇOS DA CO...|92: SERVIÇOS DA I...|929: OUTROS SERVI...|                 NaN|      NaN|\n",
            "+------+--------------------+--------------+----+--------------------+--------------------+--------------------+--------------------+---------+\n",
            "\n"
          ]
        }
      ]
    },
    {
      "cell_type": "markdown",
      "source": [
        "# Load Phase"
      ],
      "metadata": {
        "id": "Yg1vS5DcrX1G"
      }
    },
    {
      "cell_type": "code",
      "source": [
        "# Step 11: Mount Google Drive\n",
        "from google.colab import drive\n",
        "\n",
        "try:\n",
        "    drive.mount('/content/drive')\n",
        "except Exception as e:\n",
        "    print(f\"An error occurred while mounting Google Drive: {e}\")"
      ],
      "metadata": {
        "colab": {
          "base_uri": "https://localhost:8080/"
        },
        "id": "zSMAT6YSrbWo",
        "outputId": "a026c069-eb82-4604-8943-49287aac9bd3"
      },
      "execution_count": 12,
      "outputs": [
        {
          "output_type": "stream",
          "name": "stdout",
          "text": [
            "Mounted at /content/drive\n"
          ]
        }
      ]
    },
    {
      "cell_type": "code",
      "source": [
        "# Step 12: Define directory path in Google Drive\n",
        "dir = '/content/drive/MyDrive/'"
      ],
      "metadata": {
        "id": "zrN6fMiHretd"
      },
      "execution_count": 13,
      "outputs": []
    },
    {
      "cell_type": "code",
      "source": [
        "# Step 13: Write the Spark DataFrame to CSV in Google Drive\n",
        "spark_df.write.mode(\"overwrite\")\\\n",
        "        .format(\"csv\")\\\n",
        "        .option('header', 'true')\\\n",
        "        .save(f\"{dir}/compras\")"
      ],
      "metadata": {
        "id": "_dWKyezJrjrD"
      },
      "execution_count": 14,
      "outputs": []
    },
    {
      "cell_type": "code",
      "source": [
        "# Step 14: Read the CSV file back into a Spark DataFrame\n",
        "loaded_df = spark.read.csv(f\"{dir}/compras\", header=True, inferSchema=True)"
      ],
      "metadata": {
        "id": "DVT1HTkerkmZ"
      },
      "execution_count": 15,
      "outputs": []
    },
    {
      "cell_type": "code",
      "source": [
        "# Step 15: Show the loaded DataFrame\n",
        "loaded_df.printSchema()\n",
        "loaded_df.show()"
      ],
      "metadata": {
        "colab": {
          "base_uri": "https://localhost:8080/"
        },
        "id": "y_3Ie8q1rpdG",
        "outputId": "7704a0ad-4494-4b9f-faa0-bb3afd89d977"
      },
      "execution_count": 16,
      "outputs": [
        {
          "output_type": "stream",
          "name": "stdout",
          "text": [
            "root\n",
            " |-- codigo: integer (nullable = true)\n",
            " |-- descricao: string (nullable = true)\n",
            " |-- unidade_medida: string (nullable = true)\n",
            " |-- cpc: integer (nullable = true)\n",
            " |-- secao: string (nullable = true)\n",
            " |-- divisao: string (nullable = true)\n",
            " |-- grupo: string (nullable = true)\n",
            " |-- classe: string (nullable = true)\n",
            " |-- subclasse: double (nullable = true)\n",
            "\n",
            "+------+--------------------+--------------+----+--------------------+--------------------+--------------------+--------------------+---------+\n",
            "|codigo|           descricao|unidade_medida| cpc|               secao|             divisao|               grupo|              classe|subclasse|\n",
            "+------+--------------------+--------------+----+--------------------+--------------------+--------------------+--------------------+---------+\n",
            "| 18481|Consultoria e Ass...|            UN|8319|8: SERVIÇOS DE AR...|83: OUTROS SERVIÇ...|831: SERVIÇOS DE ...|8319: OUTROS SERV...|      NaN|\n",
            "| 19321|Curso / Treinamen...|            UN| 929|9: SERVIÇOS DA CO...|92: SERVIÇOS DA I...|929: OUTROS SERVI...|                 NaN|      NaN|\n",
            "| 14311|Orientação / Educ...| UNHOMEM/H MÊS|9659|9: SERVIÇOS DA CO...|96: SERVIÇOS RECR...|965: SERVIÇOS REL...|9659: OUTROS ESPO...|      NaN|\n",
            "| 15946|Serviço Penitenci...|            UN| 979|9: SERVIÇOS DA CO...| 97: OUTROS SERVIÇOS|979: OUTROS SERVI...|                 NaN|      NaN|\n",
            "+------+--------------------+--------------+----+--------------------+--------------------+--------------------+--------------------+---------+\n",
            "\n"
          ]
        }
      ]
    }
  ]
}